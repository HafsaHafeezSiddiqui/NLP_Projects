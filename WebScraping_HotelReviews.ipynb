{
  "nbformat": 4,
  "nbformat_minor": 0,
  "metadata": {
    "colab": {
      "provenance": []
    },
    "kernelspec": {
      "name": "python3",
      "display_name": "Python 3"
    },
    "language_info": {
      "name": "python"
    }
  },
  "cells": [
    {
      "cell_type": "markdown",
      "source": [
        "IMPORTING LIBRARIES & PACKAGES"
      ],
      "metadata": {
        "id": "oHWgStUfGYKi"
      }
    },
    {
      "cell_type": "code",
      "execution_count": null,
      "metadata": {
        "id": "oz8q16pEd1BI"
      },
      "outputs": [],
      "source": [
        "import pandas as pd\n",
        "import re\n",
        "\n",
        "from bs4 import BeautifulSoup as bs\n",
        "import requests\n",
        "from nltk.corpus import stopwords\n",
        "\n",
        "import pandas as pd\n",
        "import numpy as np\n",
        "from sklearn.feature_extraction.text import CountVectorizer\n",
        "from sklearn.naive_bayes import MultinomialNB\n",
        "from sklearn.model_selection import train_test_split\n",
        "from sklearn.metrics import accuracy_score, classification_report\n",
        "from sklearn.metrics import confusion_matrix\n",
        "\n",
        "import warnings\n",
        "warnings.filterwarnings(\"ignore\")"
      ]
    },
    {
      "cell_type": "code",
      "source": [
        "import nltk\n",
        "nltk.download('stopwords')"
      ],
      "metadata": {
        "colab": {
          "base_uri": "https://localhost:8080/"
        },
        "id": "2G05gKRr7kA7",
        "outputId": "ca1b5434-5116-49c5-b234-6816d93730f2"
      },
      "execution_count": null,
      "outputs": [
        {
          "output_type": "stream",
          "name": "stderr",
          "text": [
            "[nltk_data] Downloading package stopwords to /root/nltk_data...\n",
            "[nltk_data]   Package stopwords is already up-to-date!\n"
          ]
        },
        {
          "output_type": "execute_result",
          "data": {
            "text/plain": [
              "True"
            ]
          },
          "metadata": {},
          "execution_count": 2
        }
      ]
    },
    {
      "cell_type": "markdown",
      "source": [
        "SCRAPING HOTEL REVIEWS\n",
        "\n",
        "WEBSITE: https://www.booking.com/reviews/us/hotel/beresford\n",
        "\n",
        "Empty lists are created to store reviewers' information and reviews.\n",
        "\n",
        "A while loop is used to scrape multiple pages (up to 30 pages).\n",
        "\n",
        "For each page, the script:\n",
        "\n",
        "\n",
        "*   Retrieves the HTML content using requests.get().\n",
        "*   Parses the HTML content using BeautifulSoup.\n",
        "*   Extracts the review box containing all reviews.\n",
        "*   Extracts various information from each review:\n",
        "\n",
        "    1.   Ratings\n",
        "    2.   Reviewer name, Country, Overall review\n",
        "    3.   Review times\n",
        "    4.   Review date\n",
        "    5.   Reviewer tags\n",
        "\n",
        "*   Appends all reviewers' information to the info list.\n",
        "\n",
        "\n",
        "*   After scraping all pages, the script creates a Pandas DataFrame reviewer_info from the info list.\n",
        "*   The DataFrame is cleaned and formatted:\n",
        "\n",
        "    1.   Rating is converted to a numeric value.\n",
        "    2.   Review times are extracted from the text and converted to a numeric value.\n",
        "    3.   Review date is converted to a datetime object.\n",
        "\n",
        "*   The function returns the reviewer_info DataFrame.\n"
      ],
      "metadata": {
        "id": "I47JvnqzGfcs"
      }
    },
    {
      "cell_type": "code",
      "source": [
        "def scrape_reviews():\n",
        "    '''\n",
        "    Function to scrape hotel reviews from bookings.com\n",
        "    INPUTS:\n",
        "        hotel_linkname - hotel name in the bookings.com weblink\n",
        "        total_pages - the total number of reviews pages to scrape\n",
        "    OUTPUTS:\n",
        "        reviewer_info - a dataframe that includes reviewers' basic information\n",
        "    '''\n",
        "    #Create empty lists to put in reviewers' information as well as all of the positive & negative reviews\n",
        "    info = []\n",
        "\n",
        "    #bookings.com reviews link\n",
        "    url = 'https://www.booking.com/reviews/us/hotel/beresford.en-gb.html?label=gen173nr-1FCA0o7AFCCWJlcmVzZm9yZEgzWARokQKIAQGYATG4ARfIAQzYAQHoAQH4AQKIAgGoAgO4ArGo6_oFwAIB0gIkODFmNjUzODEtMWU5Ny00ZjIzLWI2MWEtYjBjZGU2NzI0ZWYz2AIF4AIB&sid=f67a1941a3d25cae5781e6642f694bbc&customer_type=total&hp_nav=0&keep_landing=1&order=featuredreviews&page=1&r_lang=en&rows=75&'\n",
        "    page_number = 1\n",
        "\n",
        "    #Use a while loop to scrape all the pages\n",
        "    while page_number <= 30:\n",
        "\n",
        "        page = requests.get(url + str(page_number)) #retrieve data from serve\n",
        "        soup = bs(page.text, \"html.parser\") # initiate a beautifulsoup object using the html source and Python’s html.parser\n",
        "        review_box = soup.find('ul',{'class':'review_list'})\n",
        "\n",
        "        #ratings\n",
        "        ratings = [i.text.strip() for i in review_box.find_all('span',{'class':'review-score-badge'})]\n",
        "\n",
        "        #reviewer_info\n",
        "        reviewer_info = [i.text.strip() for i in review_box.find_all('span',{'itemprop':'name'})]\n",
        "        reviewer_name = reviewer_info[0::3]\n",
        "        reviewer_country = reviewer_info[1::3]\n",
        "        general_review = reviewer_info[2::3]\n",
        "\n",
        "        # reviewer_review_times\n",
        "        review_times = [i.text.strip() for i in review_box.find_all('div',{'class':'review_item_user_review_count'})]\n",
        "\n",
        "        # review_date\n",
        "        review_date = [i.text.strip().strip('Reviewed: ') for i in review_box.find_all('p',{'class':'review_item_date'})]\n",
        "\n",
        "        # reviewer_tag\n",
        "        reviewer_tag = [i.text.strip().replace('\\n\\n\\n','').replace('•',',').lstrip(', ') for i\n",
        "                        in review_box.find_all('ul',{'class':'review_item_info_tags'})]\n",
        "\n",
        "        # append all reviewers' info into one list\n",
        "        for i in range(len(reviewer_name)):\n",
        "            info.append([ratings[i],reviewer_name[i],reviewer_country[i],general_review[i],\n",
        "                         review_times[i],review_date[i],reviewer_tag[i]])\n",
        "\n",
        "        # page change\n",
        "        page_number +=1\n",
        "\n",
        "    #Reviewer_info df\n",
        "    reviewer_info = pd.DataFrame(info,\n",
        "                        columns = ['Rating','Name','Country','Overall_review','Review_times','Review_date','Review_tags'])\n",
        "    reviewer_info['Rating'] = pd.to_numeric(reviewer_info['Rating'] )\n",
        "    reviewer_info['Review_times'] = pd.to_numeric(reviewer_info['Review_times'].apply(lambda x:re.findall(\"\\d+\", x)[0]))\n",
        "    reviewer_info['Review_date'] = pd.to_datetime(reviewer_info['Review_date'])\n",
        "\n",
        "    return reviewer_info\n",
        "\n",
        "def show_data(df):\n",
        "    print(\"The length of the dataframe is: {}\".format(len(df)))\n",
        "    print(\"Total NAs: {}\".format(reviewer_info.isnull().sum().sum()))\n",
        "    return df.head(10)"
      ],
      "metadata": {
        "id": "b-Bp5vAGhlvp"
      },
      "execution_count": null,
      "outputs": []
    },
    {
      "cell_type": "code",
      "source": [
        "reviewer_info = scrape_reviews()"
      ],
      "metadata": {
        "id": "t3y-vZTmhvkd"
      },
      "execution_count": null,
      "outputs": []
    },
    {
      "cell_type": "markdown",
      "source": [
        "WEB-SCRAPED DATA-COLLECTED DATAFRAME"
      ],
      "metadata": {
        "id": "FNpsv007I8TI"
      }
    },
    {
      "cell_type": "code",
      "source": [
        "#reviewers' basic information\n",
        "show_data(reviewer_info)"
      ],
      "metadata": {
        "colab": {
          "base_uri": "https://localhost:8080/",
          "height": 398
        },
        "id": "L2GeIQfbhy9V",
        "outputId": "8b8dbbf2-3f64-4581-a913-1ea18f77c1b3"
      },
      "execution_count": null,
      "outputs": [
        {
          "output_type": "stream",
          "name": "stdout",
          "text": [
            "The length of the dataframe is: 720\n",
            "Total NAs: 0\n"
          ]
        },
        {
          "output_type": "execute_result",
          "data": {
            "text/plain": [
              "   Rating       Name         Country  \\\n",
              "0     8.0     Edward   United States   \n",
              "1     7.0    Everett   United States   \n",
              "2     7.0   Alauddin      Bangladesh   \n",
              "3     8.0    Eduardo          Mexico   \n",
              "4     8.0   Michelle  United Kingdom   \n",
              "5     8.0       Paul     New Zealand   \n",
              "6     8.0  Alexandre          France   \n",
              "7     8.0        Jan     New Zealand   \n",
              "8     7.0     Darren   United States   \n",
              "9     6.0       Jose           Spain   \n",
              "\n",
              "                                      Overall_review  Review_times  \\\n",
              "0                                          Very good             1   \n",
              "1                                               Good             2   \n",
              "2  There was no heating system/ the existing heat...             9   \n",
              "3                                          Very good             5   \n",
              "4  A lovely stay in the centre of San Francisco -...            24   \n",
              "5                                          Very good            19   \n",
              "6                                          Very good             4   \n",
              "7  Comfortable stay, friendly staff. Very good va...             4   \n",
              "8  Overall a good experience and front desk peopl...             2   \n",
              "9  If you get it cheap, it is a decent stay to vi...            23   \n",
              "\n",
              "  Review_date                                        Review_tags  \n",
              "0  2024-05-27  Leisure trip, Family with young children, Twin...  \n",
              "1  2024-05-26  Leisure trip, People with friends, Double Room...  \n",
              "2  2024-05-26  Leisure trip, Group, Deluxe King Room, Stayed ...  \n",
              "3  2024-05-19  Leisure trip, Couple, Queen Room, Stayed 3 nig...  \n",
              "4  2024-05-16  Leisure trip, Solo traveller, Deluxe King Room...  \n",
              "5  2024-05-14  Business trip, Solo traveller, Queen Room, Sta...  \n",
              "6  2024-05-10  Leisure trip, Family with young children, Quee...  \n",
              "7  2024-05-01  Leisure trip, Couple, Queen Room, Stayed 9 nights  \n",
              "8  2024-04-27  Leisure trip, Couple, Queen Room, Stayed 2 nig...  \n",
              "9  2024-04-17  Leisure trip, Couple, Queen Room, Stayed 9 nig...  "
            ],
            "text/html": [
              "\n",
              "  <div id=\"df-0452a6b4-1be7-4c39-82c0-0966a3667726\" class=\"colab-df-container\">\n",
              "    <div>\n",
              "<style scoped>\n",
              "    .dataframe tbody tr th:only-of-type {\n",
              "        vertical-align: middle;\n",
              "    }\n",
              "\n",
              "    .dataframe tbody tr th {\n",
              "        vertical-align: top;\n",
              "    }\n",
              "\n",
              "    .dataframe thead th {\n",
              "        text-align: right;\n",
              "    }\n",
              "</style>\n",
              "<table border=\"1\" class=\"dataframe\">\n",
              "  <thead>\n",
              "    <tr style=\"text-align: right;\">\n",
              "      <th></th>\n",
              "      <th>Rating</th>\n",
              "      <th>Name</th>\n",
              "      <th>Country</th>\n",
              "      <th>Overall_review</th>\n",
              "      <th>Review_times</th>\n",
              "      <th>Review_date</th>\n",
              "      <th>Review_tags</th>\n",
              "    </tr>\n",
              "  </thead>\n",
              "  <tbody>\n",
              "    <tr>\n",
              "      <th>0</th>\n",
              "      <td>8.0</td>\n",
              "      <td>Edward</td>\n",
              "      <td>United States</td>\n",
              "      <td>Very good</td>\n",
              "      <td>1</td>\n",
              "      <td>2024-05-27</td>\n",
              "      <td>Leisure trip, Family with young children, Twin...</td>\n",
              "    </tr>\n",
              "    <tr>\n",
              "      <th>1</th>\n",
              "      <td>7.0</td>\n",
              "      <td>Everett</td>\n",
              "      <td>United States</td>\n",
              "      <td>Good</td>\n",
              "      <td>2</td>\n",
              "      <td>2024-05-26</td>\n",
              "      <td>Leisure trip, People with friends, Double Room...</td>\n",
              "    </tr>\n",
              "    <tr>\n",
              "      <th>2</th>\n",
              "      <td>7.0</td>\n",
              "      <td>Alauddin</td>\n",
              "      <td>Bangladesh</td>\n",
              "      <td>There was no heating system/ the existing heat...</td>\n",
              "      <td>9</td>\n",
              "      <td>2024-05-26</td>\n",
              "      <td>Leisure trip, Group, Deluxe King Room, Stayed ...</td>\n",
              "    </tr>\n",
              "    <tr>\n",
              "      <th>3</th>\n",
              "      <td>8.0</td>\n",
              "      <td>Eduardo</td>\n",
              "      <td>Mexico</td>\n",
              "      <td>Very good</td>\n",
              "      <td>5</td>\n",
              "      <td>2024-05-19</td>\n",
              "      <td>Leisure trip, Couple, Queen Room, Stayed 3 nig...</td>\n",
              "    </tr>\n",
              "    <tr>\n",
              "      <th>4</th>\n",
              "      <td>8.0</td>\n",
              "      <td>Michelle</td>\n",
              "      <td>United Kingdom</td>\n",
              "      <td>A lovely stay in the centre of San Francisco -...</td>\n",
              "      <td>24</td>\n",
              "      <td>2024-05-16</td>\n",
              "      <td>Leisure trip, Solo traveller, Deluxe King Room...</td>\n",
              "    </tr>\n",
              "    <tr>\n",
              "      <th>5</th>\n",
              "      <td>8.0</td>\n",
              "      <td>Paul</td>\n",
              "      <td>New Zealand</td>\n",
              "      <td>Very good</td>\n",
              "      <td>19</td>\n",
              "      <td>2024-05-14</td>\n",
              "      <td>Business trip, Solo traveller, Queen Room, Sta...</td>\n",
              "    </tr>\n",
              "    <tr>\n",
              "      <th>6</th>\n",
              "      <td>8.0</td>\n",
              "      <td>Alexandre</td>\n",
              "      <td>France</td>\n",
              "      <td>Very good</td>\n",
              "      <td>4</td>\n",
              "      <td>2024-05-10</td>\n",
              "      <td>Leisure trip, Family with young children, Quee...</td>\n",
              "    </tr>\n",
              "    <tr>\n",
              "      <th>7</th>\n",
              "      <td>8.0</td>\n",
              "      <td>Jan</td>\n",
              "      <td>New Zealand</td>\n",
              "      <td>Comfortable stay, friendly staff. Very good va...</td>\n",
              "      <td>4</td>\n",
              "      <td>2024-05-01</td>\n",
              "      <td>Leisure trip, Couple, Queen Room, Stayed 9 nights</td>\n",
              "    </tr>\n",
              "    <tr>\n",
              "      <th>8</th>\n",
              "      <td>7.0</td>\n",
              "      <td>Darren</td>\n",
              "      <td>United States</td>\n",
              "      <td>Overall a good experience and front desk peopl...</td>\n",
              "      <td>2</td>\n",
              "      <td>2024-04-27</td>\n",
              "      <td>Leisure trip, Couple, Queen Room, Stayed 2 nig...</td>\n",
              "    </tr>\n",
              "    <tr>\n",
              "      <th>9</th>\n",
              "      <td>6.0</td>\n",
              "      <td>Jose</td>\n",
              "      <td>Spain</td>\n",
              "      <td>If you get it cheap, it is a decent stay to vi...</td>\n",
              "      <td>23</td>\n",
              "      <td>2024-04-17</td>\n",
              "      <td>Leisure trip, Couple, Queen Room, Stayed 9 nig...</td>\n",
              "    </tr>\n",
              "  </tbody>\n",
              "</table>\n",
              "</div>\n",
              "    <div class=\"colab-df-buttons\">\n",
              "\n",
              "  <div class=\"colab-df-container\">\n",
              "    <button class=\"colab-df-convert\" onclick=\"convertToInteractive('df-0452a6b4-1be7-4c39-82c0-0966a3667726')\"\n",
              "            title=\"Convert this dataframe to an interactive table.\"\n",
              "            style=\"display:none;\">\n",
              "\n",
              "  <svg xmlns=\"http://www.w3.org/2000/svg\" height=\"24px\" viewBox=\"0 -960 960 960\">\n",
              "    <path d=\"M120-120v-720h720v720H120Zm60-500h600v-160H180v160Zm220 220h160v-160H400v160Zm0 220h160v-160H400v160ZM180-400h160v-160H180v160Zm440 0h160v-160H620v160ZM180-180h160v-160H180v160Zm440 0h160v-160H620v160Z\"/>\n",
              "  </svg>\n",
              "    </button>\n",
              "\n",
              "  <style>\n",
              "    .colab-df-container {\n",
              "      display:flex;\n",
              "      gap: 12px;\n",
              "    }\n",
              "\n",
              "    .colab-df-convert {\n",
              "      background-color: #E8F0FE;\n",
              "      border: none;\n",
              "      border-radius: 50%;\n",
              "      cursor: pointer;\n",
              "      display: none;\n",
              "      fill: #1967D2;\n",
              "      height: 32px;\n",
              "      padding: 0 0 0 0;\n",
              "      width: 32px;\n",
              "    }\n",
              "\n",
              "    .colab-df-convert:hover {\n",
              "      background-color: #E2EBFA;\n",
              "      box-shadow: 0px 1px 2px rgba(60, 64, 67, 0.3), 0px 1px 3px 1px rgba(60, 64, 67, 0.15);\n",
              "      fill: #174EA6;\n",
              "    }\n",
              "\n",
              "    .colab-df-buttons div {\n",
              "      margin-bottom: 4px;\n",
              "    }\n",
              "\n",
              "    [theme=dark] .colab-df-convert {\n",
              "      background-color: #3B4455;\n",
              "      fill: #D2E3FC;\n",
              "    }\n",
              "\n",
              "    [theme=dark] .colab-df-convert:hover {\n",
              "      background-color: #434B5C;\n",
              "      box-shadow: 0px 1px 3px 1px rgba(0, 0, 0, 0.15);\n",
              "      filter: drop-shadow(0px 1px 2px rgba(0, 0, 0, 0.3));\n",
              "      fill: #FFFFFF;\n",
              "    }\n",
              "  </style>\n",
              "\n",
              "    <script>\n",
              "      const buttonEl =\n",
              "        document.querySelector('#df-0452a6b4-1be7-4c39-82c0-0966a3667726 button.colab-df-convert');\n",
              "      buttonEl.style.display =\n",
              "        google.colab.kernel.accessAllowed ? 'block' : 'none';\n",
              "\n",
              "      async function convertToInteractive(key) {\n",
              "        const element = document.querySelector('#df-0452a6b4-1be7-4c39-82c0-0966a3667726');\n",
              "        const dataTable =\n",
              "          await google.colab.kernel.invokeFunction('convertToInteractive',\n",
              "                                                    [key], {});\n",
              "        if (!dataTable) return;\n",
              "\n",
              "        const docLinkHtml = 'Like what you see? Visit the ' +\n",
              "          '<a target=\"_blank\" href=https://colab.research.google.com/notebooks/data_table.ipynb>data table notebook</a>'\n",
              "          + ' to learn more about interactive tables.';\n",
              "        element.innerHTML = '';\n",
              "        dataTable['output_type'] = 'display_data';\n",
              "        await google.colab.output.renderOutput(dataTable, element);\n",
              "        const docLink = document.createElement('div');\n",
              "        docLink.innerHTML = docLinkHtml;\n",
              "        element.appendChild(docLink);\n",
              "      }\n",
              "    </script>\n",
              "  </div>\n",
              "\n",
              "\n",
              "<div id=\"df-9b25d92d-2881-414d-8ff6-0c52074b10cf\">\n",
              "  <button class=\"colab-df-quickchart\" onclick=\"quickchart('df-9b25d92d-2881-414d-8ff6-0c52074b10cf')\"\n",
              "            title=\"Suggest charts\"\n",
              "            style=\"display:none;\">\n",
              "\n",
              "<svg xmlns=\"http://www.w3.org/2000/svg\" height=\"24px\"viewBox=\"0 0 24 24\"\n",
              "     width=\"24px\">\n",
              "    <g>\n",
              "        <path d=\"M19 3H5c-1.1 0-2 .9-2 2v14c0 1.1.9 2 2 2h14c1.1 0 2-.9 2-2V5c0-1.1-.9-2-2-2zM9 17H7v-7h2v7zm4 0h-2V7h2v10zm4 0h-2v-4h2v4z\"/>\n",
              "    </g>\n",
              "</svg>\n",
              "  </button>\n",
              "\n",
              "<style>\n",
              "  .colab-df-quickchart {\n",
              "      --bg-color: #E8F0FE;\n",
              "      --fill-color: #1967D2;\n",
              "      --hover-bg-color: #E2EBFA;\n",
              "      --hover-fill-color: #174EA6;\n",
              "      --disabled-fill-color: #AAA;\n",
              "      --disabled-bg-color: #DDD;\n",
              "  }\n",
              "\n",
              "  [theme=dark] .colab-df-quickchart {\n",
              "      --bg-color: #3B4455;\n",
              "      --fill-color: #D2E3FC;\n",
              "      --hover-bg-color: #434B5C;\n",
              "      --hover-fill-color: #FFFFFF;\n",
              "      --disabled-bg-color: #3B4455;\n",
              "      --disabled-fill-color: #666;\n",
              "  }\n",
              "\n",
              "  .colab-df-quickchart {\n",
              "    background-color: var(--bg-color);\n",
              "    border: none;\n",
              "    border-radius: 50%;\n",
              "    cursor: pointer;\n",
              "    display: none;\n",
              "    fill: var(--fill-color);\n",
              "    height: 32px;\n",
              "    padding: 0;\n",
              "    width: 32px;\n",
              "  }\n",
              "\n",
              "  .colab-df-quickchart:hover {\n",
              "    background-color: var(--hover-bg-color);\n",
              "    box-shadow: 0 1px 2px rgba(60, 64, 67, 0.3), 0 1px 3px 1px rgba(60, 64, 67, 0.15);\n",
              "    fill: var(--button-hover-fill-color);\n",
              "  }\n",
              "\n",
              "  .colab-df-quickchart-complete:disabled,\n",
              "  .colab-df-quickchart-complete:disabled:hover {\n",
              "    background-color: var(--disabled-bg-color);\n",
              "    fill: var(--disabled-fill-color);\n",
              "    box-shadow: none;\n",
              "  }\n",
              "\n",
              "  .colab-df-spinner {\n",
              "    border: 2px solid var(--fill-color);\n",
              "    border-color: transparent;\n",
              "    border-bottom-color: var(--fill-color);\n",
              "    animation:\n",
              "      spin 1s steps(1) infinite;\n",
              "  }\n",
              "\n",
              "  @keyframes spin {\n",
              "    0% {\n",
              "      border-color: transparent;\n",
              "      border-bottom-color: var(--fill-color);\n",
              "      border-left-color: var(--fill-color);\n",
              "    }\n",
              "    20% {\n",
              "      border-color: transparent;\n",
              "      border-left-color: var(--fill-color);\n",
              "      border-top-color: var(--fill-color);\n",
              "    }\n",
              "    30% {\n",
              "      border-color: transparent;\n",
              "      border-left-color: var(--fill-color);\n",
              "      border-top-color: var(--fill-color);\n",
              "      border-right-color: var(--fill-color);\n",
              "    }\n",
              "    40% {\n",
              "      border-color: transparent;\n",
              "      border-right-color: var(--fill-color);\n",
              "      border-top-color: var(--fill-color);\n",
              "    }\n",
              "    60% {\n",
              "      border-color: transparent;\n",
              "      border-right-color: var(--fill-color);\n",
              "    }\n",
              "    80% {\n",
              "      border-color: transparent;\n",
              "      border-right-color: var(--fill-color);\n",
              "      border-bottom-color: var(--fill-color);\n",
              "    }\n",
              "    90% {\n",
              "      border-color: transparent;\n",
              "      border-bottom-color: var(--fill-color);\n",
              "    }\n",
              "  }\n",
              "</style>\n",
              "\n",
              "  <script>\n",
              "    async function quickchart(key) {\n",
              "      const quickchartButtonEl =\n",
              "        document.querySelector('#' + key + ' button');\n",
              "      quickchartButtonEl.disabled = true;  // To prevent multiple clicks.\n",
              "      quickchartButtonEl.classList.add('colab-df-spinner');\n",
              "      try {\n",
              "        const charts = await google.colab.kernel.invokeFunction(\n",
              "            'suggestCharts', [key], {});\n",
              "      } catch (error) {\n",
              "        console.error('Error during call to suggestCharts:', error);\n",
              "      }\n",
              "      quickchartButtonEl.classList.remove('colab-df-spinner');\n",
              "      quickchartButtonEl.classList.add('colab-df-quickchart-complete');\n",
              "    }\n",
              "    (() => {\n",
              "      let quickchartButtonEl =\n",
              "        document.querySelector('#df-9b25d92d-2881-414d-8ff6-0c52074b10cf button');\n",
              "      quickchartButtonEl.style.display =\n",
              "        google.colab.kernel.accessAllowed ? 'block' : 'none';\n",
              "    })();\n",
              "  </script>\n",
              "</div>\n",
              "\n",
              "    </div>\n",
              "  </div>\n"
            ],
            "application/vnd.google.colaboratory.intrinsic+json": {
              "type": "dataframe",
              "summary": "{\n  \"name\": \"show_data(reviewer_info)\",\n  \"rows\": 10,\n  \"fields\": [\n    {\n      \"column\": \"Rating\",\n      \"properties\": {\n        \"dtype\": \"number\",\n        \"std\": 0.7071067811865476,\n        \"min\": 6.0,\n        \"max\": 8.0,\n        \"num_unique_values\": 3,\n        \"samples\": [\n          8.0,\n          7.0,\n          6.0\n        ],\n        \"semantic_type\": \"\",\n        \"description\": \"\"\n      }\n    },\n    {\n      \"column\": \"Name\",\n      \"properties\": {\n        \"dtype\": \"string\",\n        \"num_unique_values\": 10,\n        \"samples\": [\n          \"Darren\",\n          \"Everett\",\n          \"Paul\"\n        ],\n        \"semantic_type\": \"\",\n        \"description\": \"\"\n      }\n    },\n    {\n      \"column\": \"Country\",\n      \"properties\": {\n        \"dtype\": \"string\",\n        \"num_unique_values\": 7,\n        \"samples\": [\n          \"United States\",\n          \"Bangladesh\",\n          \"France\"\n        ],\n        \"semantic_type\": \"\",\n        \"description\": \"\"\n      }\n    },\n    {\n      \"column\": \"Overall_review\",\n      \"properties\": {\n        \"dtype\": \"string\",\n        \"num_unique_values\": 7,\n        \"samples\": [\n          \"Very good\",\n          \"Good\",\n          \"Overall a good experience and front desk people were nice\"\n        ],\n        \"semantic_type\": \"\",\n        \"description\": \"\"\n      }\n    },\n    {\n      \"column\": \"Review_times\",\n      \"properties\": {\n        \"dtype\": \"number\",\n        \"std\": 9,\n        \"min\": 1,\n        \"max\": 24,\n        \"num_unique_values\": 8,\n        \"samples\": [\n          2,\n          19,\n          1\n        ],\n        \"semantic_type\": \"\",\n        \"description\": \"\"\n      }\n    },\n    {\n      \"column\": \"Review_date\",\n      \"properties\": {\n        \"dtype\": \"date\",\n        \"min\": \"2024-04-17 00:00:00\",\n        \"max\": \"2024-05-27 00:00:00\",\n        \"num_unique_values\": 9,\n        \"samples\": [\n          \"2024-04-27 00:00:00\",\n          \"2024-05-26 00:00:00\",\n          \"2024-05-10 00:00:00\"\n        ],\n        \"semantic_type\": \"\",\n        \"description\": \"\"\n      }\n    },\n    {\n      \"column\": \"Review_tags\",\n      \"properties\": {\n        \"dtype\": \"string\",\n        \"num_unique_values\": 10,\n        \"samples\": [\n          \"Leisure trip, Couple, Queen Room, Stayed 2 nights, Submitted via mobile\",\n          \"Leisure trip, People with friends, Double Room with Two Double Beds, Stayed 3 nights, Submitted via mobile\",\n          \"Business trip, Solo traveller, Queen Room, Stayed 5 nights, Submitted via mobile\"\n        ],\n        \"semantic_type\": \"\",\n        \"description\": \"\"\n      }\n    }\n  ]\n}"
            }
          },
          "metadata": {},
          "execution_count": 5
        }
      ]
    },
    {
      "cell_type": "markdown",
      "source": [
        "PRE-PROCESSING\n",
        "\n",
        "*   Converts all text in the 'Overall_review' column to lowercase.\n",
        "*   Removes all special characters and punctuation from the text, leaving only words and spaces.\n",
        "*   Removes common English stopwords (like 'the', 'and', etc.) from the text."
      ],
      "metadata": {
        "id": "7R7VrFQGJTmx"
      }
    },
    {
      "cell_type": "code",
      "source": [
        "# Preprocessing\n",
        "reviewer_info['Overall_review'] = reviewer_info['Overall_review'].str.lower()\n",
        "reviewer_info['Overall_review'] = reviewer_info['Overall_review'].str.replace(r'[^\\w\\s]', '')\n",
        "reviewer_info['Overall_review'] = reviewer_info['Overall_review'].apply(lambda x: ' '.join([word for word in x.split() if word not in stopwords.words('english')]))"
      ],
      "metadata": {
        "id": "78J2hNJ07zDi"
      },
      "execution_count": null,
      "outputs": []
    },
    {
      "cell_type": "markdown",
      "source": [
        "DATA SPLITTING\n",
        "\n",
        "Splits the data into training (80%) and testing sets (20%)."
      ],
      "metadata": {
        "id": "oEraKqX3LBmp"
      }
    },
    {
      "cell_type": "code",
      "source": [
        "from sklearn.model_selection import train_test_split\n",
        "\n",
        "# Split data into training and testing sets\n",
        "train_data, test_data = train_test_split(reviewer_info, test_size=0.2, random_state=42)"
      ],
      "metadata": {
        "id": "zP5BiYx0KeSM"
      },
      "execution_count": null,
      "outputs": []
    },
    {
      "cell_type": "markdown",
      "source": [
        "SENTIMENT ANALYSIS"
      ],
      "metadata": {
        "id": "yL9dASszKFHW"
      }
    },
    {
      "cell_type": "code",
      "source": [
        "pip install vadersentiment"
      ],
      "metadata": {
        "colab": {
          "base_uri": "https://localhost:8080/"
        },
        "id": "lQTN2UYCNL3l",
        "outputId": "496c94f0-1729-40bf-b36c-c005972e5bab"
      },
      "execution_count": null,
      "outputs": [
        {
          "output_type": "stream",
          "name": "stdout",
          "text": [
            "Requirement already satisfied: vadersentiment in /usr/local/lib/python3.10/dist-packages (3.3.2)\n",
            "Requirement already satisfied: requests in /usr/local/lib/python3.10/dist-packages (from vadersentiment) (2.31.0)\n",
            "Requirement already satisfied: charset-normalizer<4,>=2 in /usr/local/lib/python3.10/dist-packages (from requests->vadersentiment) (3.3.2)\n",
            "Requirement already satisfied: idna<4,>=2.5 in /usr/local/lib/python3.10/dist-packages (from requests->vadersentiment) (3.7)\n",
            "Requirement already satisfied: urllib3<3,>=1.21.1 in /usr/local/lib/python3.10/dist-packages (from requests->vadersentiment) (2.0.7)\n",
            "Requirement already satisfied: certifi>=2017.4.17 in /usr/local/lib/python3.10/dist-packages (from requests->vadersentiment) (2024.2.2)\n"
          ]
        }
      ]
    },
    {
      "cell_type": "code",
      "source": [
        "# Import the VADER lexicon\n",
        "from vaderSentiment.vaderSentiment import SentimentIntensityAnalyzer\n",
        "\n",
        "# Initialize the SentimentIntensityAnalyzer\n",
        "sia = SentimentIntensityAnalyzer()\n",
        "\n",
        "# Labeling (assuming 1=positive, 0=neutral, -1=negative)\n",
        "train_data['sentiment'] = train_data['Overall_review'].apply(lambda x:\n",
        "    1 if sia.polarity_scores(x)['compound'] > 0.05\n",
        "    else (-1 if sia.polarity_scores(x)['compound'] < -0.05\n",
        "          else 0))"
      ],
      "metadata": {
        "id": "Pz5Z9w4bJ1ml"
      },
      "execution_count": null,
      "outputs": []
    },
    {
      "cell_type": "markdown",
      "source": [
        "NAIVE BAYES MODEL"
      ],
      "metadata": {
        "id": "_3t3dXbILGIO"
      }
    },
    {
      "cell_type": "code",
      "source": [
        "from sklearn.feature_extraction.text import CountVectorizer\n",
        "from sklearn.naive_bayes import MultinomialNB\n",
        "\n",
        "# Create a CountVectorizer object\n",
        "vectorizer = CountVectorizer()\n",
        "\n",
        "# Fit the vectorizer to the training data and transform it into numerical data\n",
        "X_train = vectorizer.fit_transform(train_data['Overall_review'])\n",
        "\n",
        "# Train a Naive Bayes model on the numerical data\n",
        "nb = MultinomialNB()\n",
        "nb.fit(X_train, train_data['sentiment'])"
      ],
      "metadata": {
        "colab": {
          "base_uri": "https://localhost:8080/",
          "height": 75
        },
        "id": "Hf_-pfVLKf8v",
        "outputId": "fd895977-49f4-4803-a8e2-c17421846c90"
      },
      "execution_count": null,
      "outputs": [
        {
          "output_type": "execute_result",
          "data": {
            "text/plain": [
              "MultinomialNB()"
            ],
            "text/html": [
              "<style>#sk-container-id-1 {color: black;background-color: white;}#sk-container-id-1 pre{padding: 0;}#sk-container-id-1 div.sk-toggleable {background-color: white;}#sk-container-id-1 label.sk-toggleable__label {cursor: pointer;display: block;width: 100%;margin-bottom: 0;padding: 0.3em;box-sizing: border-box;text-align: center;}#sk-container-id-1 label.sk-toggleable__label-arrow:before {content: \"▸\";float: left;margin-right: 0.25em;color: #696969;}#sk-container-id-1 label.sk-toggleable__label-arrow:hover:before {color: black;}#sk-container-id-1 div.sk-estimator:hover label.sk-toggleable__label-arrow:before {color: black;}#sk-container-id-1 div.sk-toggleable__content {max-height: 0;max-width: 0;overflow: hidden;text-align: left;background-color: #f0f8ff;}#sk-container-id-1 div.sk-toggleable__content pre {margin: 0.2em;color: black;border-radius: 0.25em;background-color: #f0f8ff;}#sk-container-id-1 input.sk-toggleable__control:checked~div.sk-toggleable__content {max-height: 200px;max-width: 100%;overflow: auto;}#sk-container-id-1 input.sk-toggleable__control:checked~label.sk-toggleable__label-arrow:before {content: \"▾\";}#sk-container-id-1 div.sk-estimator input.sk-toggleable__control:checked~label.sk-toggleable__label {background-color: #d4ebff;}#sk-container-id-1 div.sk-label input.sk-toggleable__control:checked~label.sk-toggleable__label {background-color: #d4ebff;}#sk-container-id-1 input.sk-hidden--visually {border: 0;clip: rect(1px 1px 1px 1px);clip: rect(1px, 1px, 1px, 1px);height: 1px;margin: -1px;overflow: hidden;padding: 0;position: absolute;width: 1px;}#sk-container-id-1 div.sk-estimator {font-family: monospace;background-color: #f0f8ff;border: 1px dotted black;border-radius: 0.25em;box-sizing: border-box;margin-bottom: 0.5em;}#sk-container-id-1 div.sk-estimator:hover {background-color: #d4ebff;}#sk-container-id-1 div.sk-parallel-item::after {content: \"\";width: 100%;border-bottom: 1px solid gray;flex-grow: 1;}#sk-container-id-1 div.sk-label:hover label.sk-toggleable__label {background-color: #d4ebff;}#sk-container-id-1 div.sk-serial::before {content: \"\";position: absolute;border-left: 1px solid gray;box-sizing: border-box;top: 0;bottom: 0;left: 50%;z-index: 0;}#sk-container-id-1 div.sk-serial {display: flex;flex-direction: column;align-items: center;background-color: white;padding-right: 0.2em;padding-left: 0.2em;position: relative;}#sk-container-id-1 div.sk-item {position: relative;z-index: 1;}#sk-container-id-1 div.sk-parallel {display: flex;align-items: stretch;justify-content: center;background-color: white;position: relative;}#sk-container-id-1 div.sk-item::before, #sk-container-id-1 div.sk-parallel-item::before {content: \"\";position: absolute;border-left: 1px solid gray;box-sizing: border-box;top: 0;bottom: 0;left: 50%;z-index: -1;}#sk-container-id-1 div.sk-parallel-item {display: flex;flex-direction: column;z-index: 1;position: relative;background-color: white;}#sk-container-id-1 div.sk-parallel-item:first-child::after {align-self: flex-end;width: 50%;}#sk-container-id-1 div.sk-parallel-item:last-child::after {align-self: flex-start;width: 50%;}#sk-container-id-1 div.sk-parallel-item:only-child::after {width: 0;}#sk-container-id-1 div.sk-dashed-wrapped {border: 1px dashed gray;margin: 0 0.4em 0.5em 0.4em;box-sizing: border-box;padding-bottom: 0.4em;background-color: white;}#sk-container-id-1 div.sk-label label {font-family: monospace;font-weight: bold;display: inline-block;line-height: 1.2em;}#sk-container-id-1 div.sk-label-container {text-align: center;}#sk-container-id-1 div.sk-container {/* jupyter's `normalize.less` sets `[hidden] { display: none; }` but bootstrap.min.css set `[hidden] { display: none !important; }` so we also need the `!important` here to be able to override the default hidden behavior on the sphinx rendered scikit-learn.org. See: https://github.com/scikit-learn/scikit-learn/issues/21755 */display: inline-block !important;position: relative;}#sk-container-id-1 div.sk-text-repr-fallback {display: none;}</style><div id=\"sk-container-id-1\" class=\"sk-top-container\"><div class=\"sk-text-repr-fallback\"><pre>MultinomialNB()</pre><b>In a Jupyter environment, please rerun this cell to show the HTML representation or trust the notebook. <br />On GitHub, the HTML representation is unable to render, please try loading this page with nbviewer.org.</b></div><div class=\"sk-container\" hidden><div class=\"sk-item\"><div class=\"sk-estimator sk-toggleable\"><input class=\"sk-toggleable__control sk-hidden--visually\" id=\"sk-estimator-id-1\" type=\"checkbox\" checked><label for=\"sk-estimator-id-1\" class=\"sk-toggleable__label sk-toggleable__label-arrow\">MultinomialNB</label><div class=\"sk-toggleable__content\"><pre>MultinomialNB()</pre></div></div></div></div></div>"
            ]
          },
          "metadata": {},
          "execution_count": 10
        }
      ]
    },
    {
      "cell_type": "code",
      "source": [
        "test_data['sentiment'] = test_data['Overall_review'].apply(lambda x:\n",
        "    1 if sia.polarity_scores(x)['compound'] > 0.05\n",
        "    else (-1 if sia.polarity_scores(x)['compound'] < -0.05\n",
        "          else 0))"
      ],
      "metadata": {
        "id": "dPX8f3wYKjur"
      },
      "execution_count": null,
      "outputs": []
    },
    {
      "cell_type": "code",
      "source": [
        "X_test = vectorizer.transform(test_data['Overall_review'])"
      ],
      "metadata": {
        "id": "v1ZjwkJIKlvw"
      },
      "execution_count": null,
      "outputs": []
    },
    {
      "cell_type": "code",
      "source": [
        "# Predict sentiment labels for the testing data\n",
        "test_data['predicted_sentiment'] = nb.predict(X_test)"
      ],
      "metadata": {
        "id": "HDsPU8KkKoxV"
      },
      "execution_count": null,
      "outputs": []
    },
    {
      "cell_type": "markdown",
      "source": [
        "TRAINING DATA EVALUATION"
      ],
      "metadata": {
        "id": "v2U4NhS0ZPH0"
      }
    },
    {
      "cell_type": "code",
      "source": [
        "from sklearn.metrics import accuracy_score\n",
        "print(\"Training Data:\")\n",
        "print(\"Sentiment Labels:\", train_data['sentiment'].value_counts())\n",
        "print(\"Accuracy:\", accuracy_score(train_data['sentiment'], train_data['sentiment']))"
      ],
      "metadata": {
        "colab": {
          "base_uri": "https://localhost:8080/"
        },
        "id": "GCZNEpCU9Va2",
        "outputId": "619b9c55-52f2-4ff8-fa58-2e1205e0f1af"
      },
      "execution_count": null,
      "outputs": [
        {
          "output_type": "stream",
          "name": "stdout",
          "text": [
            "Training Data:\n",
            "Sentiment Labels: sentiment\n",
            "1    524\n",
            "0     52\n",
            "Name: count, dtype: int64\n",
            "Accuracy: 1.0\n"
          ]
        }
      ]
    },
    {
      "cell_type": "code",
      "source": [
        "print(\"Training Data:\")\n",
        "pd.set_option('display.max_columns', 3)  # Display 3 columns\n",
        "pd.set_option('display.width', 1000)  # Set display width to 1000 characters\n",
        "print(train_data[['Overall_review', 'sentiment']])"
      ],
      "metadata": {
        "colab": {
          "base_uri": "https://localhost:8080/"
        },
        "id": "0krbmC3fYn9V",
        "outputId": "aa4c86bd-7a86-4939-8065-e1dcc74227c1"
      },
      "execution_count": null,
      "outputs": [
        {
          "output_type": "stream",
          "name": "stdout",
          "text": [
            "Training Data:\n",
            "                                        Overall_review  sentiment\n",
            "395                                               good          1\n",
            "41                      staff friendly value excellent          1\n",
            "108                            enjoyed every bit stay.          1\n",
            "644  friendly staff, clean, shutters shower odd sme...          1\n",
            "56      overall good experience front desk people nice          1\n",
            "..                                                 ...        ...\n",
            "71                                            pleasant          1\n",
            "106                                               good          1\n",
            "270                                               good          1\n",
            "435                                               good          1\n",
            "102                                               good          1\n",
            "\n",
            "[576 rows x 2 columns]\n"
          ]
        }
      ]
    },
    {
      "cell_type": "markdown",
      "source": [
        "TESTING DATA EVALUATION"
      ],
      "metadata": {
        "id": "3pb12VDqZGmB"
      }
    },
    {
      "cell_type": "code",
      "source": [
        "print(\"\\nTesting Data:\")\n",
        "print(\"Predicted Sentiment Labels:\", test_data['predicted_sentiment'].value_counts())\n",
        "print(\"Accuracy:\", accuracy_score(test_data['sentiment'], test_data['predicted_sentiment']))"
      ],
      "metadata": {
        "colab": {
          "base_uri": "https://localhost:8080/"
        },
        "id": "W2BLRs-6X4bg",
        "outputId": "659ddd83-64b4-4d76-e959-43bcb86b6cd2"
      },
      "execution_count": null,
      "outputs": [
        {
          "output_type": "stream",
          "name": "stdout",
          "text": [
            "\n",
            "Testing Data:\n",
            "Predicted Sentiment Labels: predicted_sentiment\n",
            "1    136\n",
            "0      8\n",
            "Name: count, dtype: int64\n",
            "Accuracy: 1.0\n"
          ]
        }
      ]
    },
    {
      "cell_type": "code",
      "source": [
        "print(\"Testing Data:\")\n",
        "pd.set_option('display.max_columns', 3)  # Display 3 columns\n",
        "pd.set_option('display.width', 1000)  # Set display width to 1000 characters\n",
        "print(test_data[['Overall_review', 'sentiment', 'predicted_sentiment']])"
      ],
      "metadata": {
        "colab": {
          "base_uri": "https://localhost:8080/"
        },
        "id": "tU38mz37X6c9",
        "outputId": "68b6df32-ae2e-4f18-e70f-a3fcfd535128"
      },
      "execution_count": null,
      "outputs": [
        {
          "output_type": "stream",
          "name": "stdout",
          "text": [
            "Testing Data:\n",
            "                                        Overall_review  sentiment  predicted_sentiment\n",
            "340  lovely stay centre san francisco - basic place...          1                    1\n",
            "290   heating system/ existing heating system working.          0                    0\n",
            "54                                                good          1                    1\n",
            "198                                               good          1                    1\n",
            "453                                   great short stay          1                    1\n",
            "..                                                 ...        ...                  ...\n",
            "164  friendly staff, clean, shutters shower odd sme...          1                    1\n",
            "165                                   great short stay          1                    1\n",
            "199  comfortable stay, friendly staff. good value m...          1                    1\n",
            "132                            enjoyed every bit stay.          1                    1\n",
            "501                                   great short stay          1                    1\n",
            "\n",
            "[144 rows x 3 columns]\n"
          ]
        }
      ]
    },
    {
      "cell_type": "markdown",
      "source": [
        "VISUALIZATION OF RESULTS\n"
      ],
      "metadata": {
        "id": "rMyFVnhKLzCq"
      }
    },
    {
      "cell_type": "code",
      "source": [
        "import matplotlib.pyplot as plt\n",
        "import seaborn as sns\n",
        "\n",
        "# Combine testing and training data\n",
        "combined_data = pd.concat([train_data, test_data])\n",
        "\n",
        "# Count the number of positive and negative sentiments\n",
        "sentiment_counts = combined_data['sentiment'].value_counts()\n",
        "\n",
        "# Create a bar graph\n",
        "plt.figure(figsize=(8, 6))\n",
        "sns.barplot(x=sentiment_counts.index, y=sentiment_counts.values)\n",
        "plt.title('Combined Data Statistics')\n",
        "plt.xlabel('Sentiment')\n",
        "plt.ylabel('Count')\n",
        "plt.xticks([0, 1], ['Negative', 'Positive'])\n",
        "plt.show()"
      ],
      "metadata": {
        "colab": {
          "base_uri": "https://localhost:8080/",
          "height": 564
        },
        "id": "wWhpuB1ZX81i",
        "outputId": "485465fb-9170-473b-bc28-580ee44c27b1"
      },
      "execution_count": null,
      "outputs": [
        {
          "output_type": "display_data",
          "data": {
            "text/plain": [
              "<Figure size 800x600 with 1 Axes>"
            ],
            "image/png": "[encoded data removed]"
          },
          "metadata": {}
        }
      ]
    }
  ]
}